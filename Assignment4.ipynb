{
  "nbformat": 4,
  "nbformat_minor": 0,
  "metadata": {
    "colab": {
      "provenance": []
    },
    "kernelspec": {
      "name": "python3",
      "display_name": "Python 3"
    },
    "language_info": {
      "name": "python"
    }
  },
  "cells": [
    {
      "cell_type": "code",
      "source": [
        "#Q1\n",
        "import numpy as np\n",
        "\n",
        "# Q1:\n",
        "arr = np.array([1, 2, 3, 4, 5])\n",
        "print(\"Original Array:\", arr)\n",
        "\n",
        "# a)\n",
        "arr_add = arr + 2\n",
        "print(\"After adding 2:\", arr_add)\n",
        "\n",
        "# b)\n",
        "arr_mul = arr * 3\n",
        "print(\"After multiplying by 3:\", arr_mul)\n",
        "\n",
        "# c)\n",
        "arr_div = arr / 2\n",
        "print(\"After dividing by 2:\", arr_div)"
      ],
      "metadata": {
        "colab": {
          "base_uri": "https://localhost:8080/"
        },
        "id": "Ghfg5E_AiFkO",
        "outputId": "0c36780a-c0e2-4d47-c99c-b1354b3d3f1e"
      },
      "execution_count": 1,
      "outputs": [
        {
          "output_type": "stream",
          "name": "stdout",
          "text": [
            "Original Array: [1 2 3 4 5]\n",
            "After adding 2: [3 4 5 6 7]\n",
            "After multiplying by 3: [ 3  6  9 12 15]\n",
            "After dividing by 2: [0.5 1.  1.5 2.  2.5]\n"
          ]
        }
      ]
    },
    {
      "cell_type": "code",
      "source": [
        "# Q2:\n",
        "# a)\n",
        "arr2 = np.array([1, 2, 3, 6, 4, 5])\n",
        "arr_rev = arr2[::-1]\n",
        "print(\"Reversed Array:\", arr_rev)\n",
        "\n",
        "# b)\n",
        "def most_frequent(arr):\n",
        "    vals, counts = np.unique(arr, return_counts=True)\n",
        "    max_count = np.max(counts)\n",
        "    most_frequent_value = vals[np.argmax(counts)]\n",
        "    indices = np.where(arr == most_frequent_value)[0]\n",
        "    return most_frequent_value, indices\n",
        "\n",
        "x = np.array([1, 2, 3, 4, 5, 1, 2, 1, 1, 1])\n",
        "y = np.array([1, 1, 1, 2, 3, 4, 2, 4, 3, 3])\n",
        "\n",
        "x_value, x_indices = most_frequent(x)\n",
        "y_value, y_indices = most_frequent(y)\n",
        "\n",
        "print(f\"Most frequent value in x: {x_value}, Indices: {x_indices}\")\n",
        "print(f\"Most frequent value in y: {y_value}, Indices: {y_indices}\")"
      ],
      "metadata": {
        "colab": {
          "base_uri": "https://localhost:8080/"
        },
        "id": "rtbGDWCSiQYK",
        "outputId": "5d590c52-f038-4dd4-c09f-23abd8730ad6"
      },
      "execution_count": 2,
      "outputs": [
        {
          "output_type": "stream",
          "name": "stdout",
          "text": [
            "Reversed Array: [5 4 6 3 2 1]\n",
            "Most frequent value in x: 1, Indices: [0 5 7 8 9]\n",
            "Most frequent value in y: 1, Indices: [0 1 2]\n"
          ]
        }
      ]
    },
    {
      "cell_type": "code",
      "source": [
        "# Q3:\n",
        "a_arr = np.array([[10, 20, 30], [40, 50, 60], [70, 80, 90]])\n",
        "print(\"Element at (1st row, 2nd column):\", a_arr[0, 1])\n",
        "print(\"Element at (3rd row, 1st column):\", a_arr[2, 0])"
      ],
      "metadata": {
        "colab": {
          "base_uri": "https://localhost:8080/"
        },
        "id": "X8Y08FvziUv4",
        "outputId": "432f458c-4f26-4e3b-80b7-f8d6f3ff6d0f"
      },
      "execution_count": 3,
      "outputs": [
        {
          "output_type": "stream",
          "name": "stdout",
          "text": [
            "Element at (1st row, 2nd column): 20\n",
            "Element at (3rd row, 1st column): 70\n"
          ]
        }
      ]
    },
    {
      "cell_type": "code",
      "source": [
        "# Q4:\n",
        "Sahil = np.linspace(10, 100, 25)\n",
        "print(\"Array:\", Sahil)\n",
        "print(\"Dimensions:\", Sahil.ndim)\n",
        "print(\"Shape:\", Sahil.shape)\n",
        "print(\"Total elements:\", Sahil.size)\n",
        "print(\"Data type:\", Sahil.dtype)\n",
        "print(\"Total bytes consumed:\", Sahil.nbytes)\n",
        "\n",
        "# Transpose\n",
        "transposed_array = Sahil.reshape(25, 1)\n",
        "print(\"Transposed Array using reshape():\\n\", transposed_array)\n",
        "\n",
        "# Using T attribute\n",
        "print(\"Transpose using T attribute:\", Sahil.T)"
      ],
      "metadata": {
        "colab": {
          "base_uri": "https://localhost:8080/"
        },
        "id": "68GNuAHfibbQ",
        "outputId": "5f003db7-8f0b-4721-8fd2-684dbe6d23d0"
      },
      "execution_count": 5,
      "outputs": [
        {
          "output_type": "stream",
          "name": "stdout",
          "text": [
            "Array: [ 10.    13.75  17.5   21.25  25.    28.75  32.5   36.25  40.    43.75\n",
            "  47.5   51.25  55.    58.75  62.5   66.25  70.    73.75  77.5   81.25\n",
            "  85.    88.75  92.5   96.25 100.  ]\n",
            "Dimensions: 1\n",
            "Shape: (25,)\n",
            "Total elements: 25\n",
            "Data type: float64\n",
            "Total bytes consumed: 200\n",
            "Transposed Array using reshape():\n",
            " [[ 10.  ]\n",
            " [ 13.75]\n",
            " [ 17.5 ]\n",
            " [ 21.25]\n",
            " [ 25.  ]\n",
            " [ 28.75]\n",
            " [ 32.5 ]\n",
            " [ 36.25]\n",
            " [ 40.  ]\n",
            " [ 43.75]\n",
            " [ 47.5 ]\n",
            " [ 51.25]\n",
            " [ 55.  ]\n",
            " [ 58.75]\n",
            " [ 62.5 ]\n",
            " [ 66.25]\n",
            " [ 70.  ]\n",
            " [ 73.75]\n",
            " [ 77.5 ]\n",
            " [ 81.25]\n",
            " [ 85.  ]\n",
            " [ 88.75]\n",
            " [ 92.5 ]\n",
            " [ 96.25]\n",
            " [100.  ]]\n",
            "Transpose using T attribute: [ 10.    13.75  17.5   21.25  25.    28.75  32.5   36.25  40.    43.75\n",
            "  47.5   51.25  55.    58.75  62.5   66.25  70.    73.75  77.5   81.25\n",
            "  85.    88.75  92.5   96.25 100.  ]\n"
          ]
        }
      ]
    },
    {
      "cell_type": "code",
      "source": [
        "# Q5:\n",
        "Sahil = np.array([[10, 20, 30, 40], [50, 60, 70, 80], [90, 15, 20, 35]])\n",
        "print(\"Mean:\", np.mean(Sahil))\n",
        "print(\"Median:\", np.median(Sahil))\n",
        "print(\"Max:\", np.max(Sahil))\n",
        "print(\"Min:\", np.min(Sahil))\n",
        "print(\"Unique Elements:\", np.unique(Sahil))\n",
        "\n",
        "# Reshape to 4x3\n",
        "reshaped_Sahil = Sahil.reshape(4, 3)\n",
        "print(\"Reshaped Array (4x3):\\n\", reshaped_Sahil)\n",
        "\n",
        "# Resize to 2x3\n",
        "resized_Sahil = np.resize(Sahil, (2, 3))\n",
        "print(\"Resized Array (2x3):\\n\", resized_Sahil)"
      ],
      "metadata": {
        "colab": {
          "base_uri": "https://localhost:8080/"
        },
        "id": "RaRpfpXfiuVY",
        "outputId": "3e0f4bb2-dadb-4ba8-974a-4c8e38cd92a8"
      },
      "execution_count": 6,
      "outputs": [
        {
          "output_type": "stream",
          "name": "stdout",
          "text": [
            "Mean: 43.333333333333336\n",
            "Median: 37.5\n",
            "Max: 90\n",
            "Min: 10\n",
            "Unique Elements: [10 15 20 30 35 40 50 60 70 80 90]\n",
            "Reshaped Array (4x3):\n",
            " [[10 20 30]\n",
            " [40 50 60]\n",
            " [70 80 90]\n",
            " [15 20 35]]\n",
            "Resized Array (2x3):\n",
            " [[10 20 30]\n",
            " [40 50 60]]\n"
          ]
        }
      ]
    }
  ]
}