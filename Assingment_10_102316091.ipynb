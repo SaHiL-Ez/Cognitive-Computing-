{
  "nbformat": 4,
  "nbformat_minor": 0,
  "metadata": {
    "colab": {
      "provenance": []
    },
    "kernelspec": {
      "name": "python3",
      "display_name": "Python 3"
    },
    "language_info": {
      "name": "python"
    }
  },
  "cells": [
    {
      "cell_type": "markdown",
      "source": [
        "**ASSINGMENT 10 By Sahil Kumar**\n"
      ],
      "metadata": {
        "id": "0C8Pvxg7rIfl"
      }
    },
    {
      "cell_type": "markdown",
      "source": [
        "Q1. Write a unique paragraph (5-6 sentences) about your favorite topic (e.g., sports, technology, food, books, etc.).\n",
        "\n",
        "1. Convert text to lowercase and remove punctuaƟon using re.\n",
        "2. Tokenize the text into words and sentences.\n",
        "3. Split using split() and word_tokenize() and compare how Python split and NLTK’s word_tokenize() differ.\n",
        "4. Remove stopwords (using NLTK's stopwords list).\n",
        "5. Display word frequency distribuƟon (excluding stopwords)."
      ],
      "metadata": {
        "id": "ZeIRUKfBrQZA"
      }
    },
    {
      "cell_type": "code",
      "source": [
        "import re\n",
        "import nltk\n",
        "from nltk.tokenize import word_tokenize, sent_tokenize\n",
        "from nltk.corpus import stopwords\n",
        "from collections import Counter\n",
        "nltk.download('punkt_tab')\n",
        "nltk.download('stopwords')\n",
        "\n",
        "paragraph = \"\"\"Basketball has embraced technology in exciting ways, with Artificial Intelligence playing a major role. AI systems analyze player statistics, shot accuracy, and defensive strategies to help teams gain a competitive edge. Coaches use real-time data to make substitutions and tactical decisions during games. Fans also benefit, with AI powering personalized content and highlights. As AI tools become more advanced, they're changing how basketball is played, coached, and experienced around the world.\"\"\"\n",
        "\n",
        "# 1. Lowercase and remove punctuation\n",
        "text_clean = re.sub(r'[^\\w\\s]', '', paragraph.lower())\n",
        "print(\"Cleaned Text:\", text_clean)\n",
        "\n",
        "# 2. Tokenize sentences and words\n",
        "sent_tokens = sent_tokenize(paragraph)\n",
        "word_tokens_nltk = word_tokenize(text_clean)\n",
        "word_tokens_split = text_clean.split()\n",
        "\n",
        "# 3. Compare split() vs word_tokenize()\n",
        "print(\"Split():\", word_tokens_split)\n",
        "print(\"word_tokenize():\", word_tokens_nltk)\n",
        "\n",
        "# 4. Remove stopwords\n",
        "stop_words = set(stopwords.words('english'))\n",
        "filtered_words = [word for word in word_tokens_nltk if word not in stop_words]\n",
        "print(\"Filtered Words:\", filtered_words)\n",
        "\n",
        "# 5. Word Frequency Distribution\n",
        "freq_dist = Counter(filtered_words)\n",
        "print(\"Word Frequency:\", freq_dist)"
      ],
      "metadata": {
        "colab": {
          "base_uri": "https://localhost:8080/"
        },
        "id": "c8SVDcbvrPb-",
        "outputId": "5ced2a8d-9ef8-494d-db6a-6d431fe3b3e7"
      },
      "execution_count": 1,
      "outputs": [
        {
          "output_type": "stream",
          "name": "stdout",
          "text": [
            "Cleaned Text: basketball has embraced technology in exciting ways with artificial intelligence playing a major role ai systems analyze player statistics shot accuracy and defensive strategies to help teams gain a competitive edge coaches use realtime data to make substitutions and tactical decisions during games fans also benefit with ai powering personalized content and highlights as ai tools become more advanced theyre changing how basketball is played coached and experienced around the world\n",
            "Split(): ['basketball', 'has', 'embraced', 'technology', 'in', 'exciting', 'ways', 'with', 'artificial', 'intelligence', 'playing', 'a', 'major', 'role', 'ai', 'systems', 'analyze', 'player', 'statistics', 'shot', 'accuracy', 'and', 'defensive', 'strategies', 'to', 'help', 'teams', 'gain', 'a', 'competitive', 'edge', 'coaches', 'use', 'realtime', 'data', 'to', 'make', 'substitutions', 'and', 'tactical', 'decisions', 'during', 'games', 'fans', 'also', 'benefit', 'with', 'ai', 'powering', 'personalized', 'content', 'and', 'highlights', 'as', 'ai', 'tools', 'become', 'more', 'advanced', 'theyre', 'changing', 'how', 'basketball', 'is', 'played', 'coached', 'and', 'experienced', 'around', 'the', 'world']\n",
            "word_tokenize(): ['basketball', 'has', 'embraced', 'technology', 'in', 'exciting', 'ways', 'with', 'artificial', 'intelligence', 'playing', 'a', 'major', 'role', 'ai', 'systems', 'analyze', 'player', 'statistics', 'shot', 'accuracy', 'and', 'defensive', 'strategies', 'to', 'help', 'teams', 'gain', 'a', 'competitive', 'edge', 'coaches', 'use', 'realtime', 'data', 'to', 'make', 'substitutions', 'and', 'tactical', 'decisions', 'during', 'games', 'fans', 'also', 'benefit', 'with', 'ai', 'powering', 'personalized', 'content', 'and', 'highlights', 'as', 'ai', 'tools', 'become', 'more', 'advanced', 'theyre', 'changing', 'how', 'basketball', 'is', 'played', 'coached', 'and', 'experienced', 'around', 'the', 'world']\n",
            "Filtered Words: ['basketball', 'embraced', 'technology', 'exciting', 'ways', 'artificial', 'intelligence', 'playing', 'major', 'role', 'ai', 'systems', 'analyze', 'player', 'statistics', 'shot', 'accuracy', 'defensive', 'strategies', 'help', 'teams', 'gain', 'competitive', 'edge', 'coaches', 'use', 'realtime', 'data', 'make', 'substitutions', 'tactical', 'decisions', 'games', 'fans', 'also', 'benefit', 'ai', 'powering', 'personalized', 'content', 'highlights', 'ai', 'tools', 'become', 'advanced', 'theyre', 'changing', 'basketball', 'played', 'coached', 'experienced', 'around', 'world']\n",
            "Word Frequency: Counter({'ai': 3, 'basketball': 2, 'embraced': 1, 'technology': 1, 'exciting': 1, 'ways': 1, 'artificial': 1, 'intelligence': 1, 'playing': 1, 'major': 1, 'role': 1, 'systems': 1, 'analyze': 1, 'player': 1, 'statistics': 1, 'shot': 1, 'accuracy': 1, 'defensive': 1, 'strategies': 1, 'help': 1, 'teams': 1, 'gain': 1, 'competitive': 1, 'edge': 1, 'coaches': 1, 'use': 1, 'realtime': 1, 'data': 1, 'make': 1, 'substitutions': 1, 'tactical': 1, 'decisions': 1, 'games': 1, 'fans': 1, 'also': 1, 'benefit': 1, 'powering': 1, 'personalized': 1, 'content': 1, 'highlights': 1, 'tools': 1, 'become': 1, 'advanced': 1, 'theyre': 1, 'changing': 1, 'played': 1, 'coached': 1, 'experienced': 1, 'around': 1, 'world': 1})\n"
          ]
        },
        {
          "output_type": "stream",
          "name": "stderr",
          "text": [
            "[nltk_data] Downloading package punkt_tab to /root/nltk_data...\n",
            "[nltk_data]   Unzipping tokenizers/punkt_tab.zip.\n",
            "[nltk_data] Downloading package stopwords to /root/nltk_data...\n",
            "[nltk_data]   Unzipping corpora/stopwords.zip.\n"
          ]
        }
      ]
    },
    {
      "cell_type": "markdown",
      "source": [
        " Q2 Using the same paragraph from Q1:\n",
        "\n",
        "1. Extract all words with only alphabets using re.findall()\n",
        "2. Remove stop words using NLTK’s stopword list\n",
        "3. Perform stemming with PorterStemmer\n",
        "4. Perform lemmaƟzaƟon with WordNetLemmaƟzer\n",
        "5. Compare the stemmed and lemmaƟzed outputs and explain when you’d prefer one over the other."
      ],
      "metadata": {
        "id": "t0ue32ZdsO9s"
      }
    },
    {
      "cell_type": "code",
      "execution_count": 2,
      "metadata": {
        "colab": {
          "base_uri": "https://localhost:8080/"
        },
        "id": "RYjhIxNnrHEz",
        "outputId": "18e7a994-b18e-40fd-a0ef-5f43f1c0f9c9"
      },
      "outputs": [
        {
          "output_type": "stream",
          "name": "stderr",
          "text": [
            "[nltk_data] Downloading package wordnet to /root/nltk_data...\n"
          ]
        },
        {
          "output_type": "stream",
          "name": "stdout",
          "text": [
            "Stemmed: ['basketbal', 'embrac', 'technolog', 'excit', 'way', 'artifici', 'intellig', 'play', 'major', 'role', 'ai', 'system', 'analyz', 'player', 'statist', 'shot', 'accuraci', 'defens', 'strategi', 'help', 'team', 'gain', 'competit', 'edg', 'coach', 'use', 'realtim', 'data', 'make', 'substitut', 'tactic', 'decis', 'game', 'fan', 'also', 'benefit', 'ai', 'power', 'person', 'content', 'highlight', 'ai', 'tool', 'becom', 'advanc', 'theyr', 'chang', 'basketbal', 'play', 'coach', 'experienc', 'around', 'world']\n",
            "Lemmatized: ['basketball', 'embraced', 'technology', 'exciting', 'way', 'artificial', 'intelligence', 'playing', 'major', 'role', 'ai', 'system', 'analyze', 'player', 'statistic', 'shot', 'accuracy', 'defensive', 'strategy', 'help', 'team', 'gain', 'competitive', 'edge', 'coach', 'use', 'realtime', 'data', 'make', 'substitution', 'tactical', 'decision', 'game', 'fan', 'also', 'benefit', 'ai', 'powering', 'personalized', 'content', 'highlight', 'ai', 'tool', 'become', 'advanced', 'theyre', 'changing', 'basketball', 'played', 'coached', 'experienced', 'around', 'world']\n"
          ]
        }
      ],
      "source": [
        "from nltk.stem import PorterStemmer, WordNetLemmatizer\n",
        "nltk.download('wordnet')\n",
        "\n",
        "# 1. Extract alphabet-only words\n",
        "words_alpha = re.findall(r'\\b[a-zA-Z]+\\b', text_clean)\n",
        "\n",
        "# 2. Remove stopwords again\n",
        "filtered_alpha = [word for word in words_alpha if word not in stop_words]\n",
        "\n",
        "# 3. Stemming\n",
        "stemmer = PorterStemmer()\n",
        "stemmed_words = [stemmer.stem(word) for word in filtered_alpha]\n",
        "\n",
        "# 4. Lemmatization\n",
        "lemmatizer = WordNetLemmatizer()\n",
        "lemmatized_words = [lemmatizer.lemmatize(word) for word in filtered_alpha]\n",
        "\n",
        "# 5. Comparison\n",
        "print(\"Stemmed:\", stemmed_words)\n",
        "print(\"Lemmatized:\", lemmatized_words)"
      ]
    },
    {
      "cell_type": "markdown",
      "source": [
        "Q3. Choose 3 short texts of your own (e.g., different news headlines, product reviews).\n",
        "\n",
        "1. Use CountVectorizer to generate the Bag of Words representaƟon.\n",
        "2. Use TfidfVectorizer to compute TF-IDF scores.\n",
        "3. Print and interpret the top 3 keywords from each text using TF-IDF."
      ],
      "metadata": {
        "id": "FxI80Y2esng0"
      }
    },
    {
      "cell_type": "code",
      "source": [
        "from sklearn.feature_extraction.text import CountVectorizer, TfidfVectorizer\n",
        "\n",
        "texts = [\n",
        "    \"LeBron James leads Lakers to victory with 35 points.\",\n",
        "    \"India clinches the T20 series against Australia in a thrilling finale.\",\n",
        "    \"Novak Djokovic wins his 24th Grand Slam title at the US Open.\"\n",
        "]\n",
        "\n",
        "# 1. Bag of Words\n",
        "cv = CountVectorizer()##This is a key tool for converting text into numerical features\n",
        "bow = cv.fit_transform(texts)\n",
        "print(\"BoW Features:\\n\", cv.get_feature_names_out())\n",
        "\n",
        "# 2. TF-IDF\n",
        "tfidf = TfidfVectorizer()\n",
        "tfidf_matrix = tfidf.fit_transform(texts)\n",
        "\n",
        "# 3. Top 3 keywords\n",
        "import numpy as np\n",
        "\n",
        "for i, text in enumerate(texts):\n",
        "    scores = tfidf_matrix[i].toarray().flatten()\n",
        "    top_indices = np.argsort(scores)[-3:][::-1]\n",
        "    top_words = [tfidf.get_feature_names_out()[j] for j in top_indices]\n",
        "    print(f\"Text {i+1} Top Keywords: {top_words}\")"
      ],
      "metadata": {
        "colab": {
          "base_uri": "https://localhost:8080/"
        },
        "id": "RQhwKaTzsfyF",
        "outputId": "0da9fafb-456b-4a4c-f9b6-4e428cbc656d"
      },
      "execution_count": 3,
      "outputs": [
        {
          "output_type": "stream",
          "name": "stdout",
          "text": [
            "BoW Features:\n",
            " ['24th' '35' 'against' 'at' 'australia' 'clinches' 'djokovic' 'finale'\n",
            " 'grand' 'his' 'in' 'india' 'james' 'lakers' 'leads' 'lebron' 'novak'\n",
            " 'open' 'points' 'series' 'slam' 't20' 'the' 'thrilling' 'title' 'to' 'us'\n",
            " 'victory' 'wins' 'with']\n",
            "Text 1 Top Keywords: ['with', 'victory', 'to']\n",
            "Text 2 Top Keywords: ['t20', 'thrilling', 'series']\n",
            "Text 3 Top Keywords: ['wins', 'us', 'title']\n"
          ]
        }
      ]
    },
    {
      "cell_type": "markdown",
      "source": [
        "Q4.  Write 2 short texts (4–6 lines each) describing two different technologies (e.g., AI vs Blockchain).\n",
        "\n",
        "1. Preprocess and tokenize both texts.\n",
        "2. Calculate: a. Jaccard Similarity using sets b. Cosine Similarity using TfidfVectorizer + cosine_similarity() c. Analyze which similarity metric gives beƩer insights in your case."
      ],
      "metadata": {
        "id": "2UAu1FKAtbsO"
      }
    },
    {
      "cell_type": "code",
      "source": [
        "from sklearn.metrics.pairwise import cosine_similarity\n",
        "import numpy as np\n",
        "\n",
        "from sklearn.metrics.pairwise import cosine_similarity\n",
        "import numpy as np\n",
        "\n",
        "text1 = \"LeBron James is known for his powerful athleticism, basketball IQ, and leadership on and off the court.\"\n",
        "text2 = \"Stephen Curry is renowned for his shooting ability, quick release, and leadership in the game of basketball.\"\n",
        "\n",
        "# 1. Preprocess\n",
        "def preprocess(text):\n",
        "    text = re.sub(r'[^\\w\\s]', '', text.lower())\n",
        "    return set(word_tokenize(text))\n",
        "\n",
        "set1, set2 = preprocess(text1), preprocess(text2)\n",
        "\n",
        "# 2a. Jaccard Similarity formula = intersection of words / union of words\n",
        "jaccard = len(set1 & set2) / len(set1 | set2)\n",
        "print(\"Jaccard Similarity:\", jaccard)\n",
        "\n",
        "# 2b. Cosine Similarity\n",
        "tfidf = TfidfVectorizer()\n",
        "tfidf_vectors = tfidf.fit_transform([text1, text2])\n",
        "cosine = cosine_similarity(tfidf_vectors[0], tfidf_vectors[1])[0][0]\n",
        "print(\"Cosine Similarity:\", cosine)\n"
      ],
      "metadata": {
        "colab": {
          "base_uri": "https://localhost:8080/"
        },
        "id": "S4IBYg9VtahX",
        "outputId": "689bddcf-5740-4b23-f698-259687041ac0"
      },
      "execution_count": 5,
      "outputs": [
        {
          "output_type": "stream",
          "name": "stdout",
          "text": [
            "Jaccard Similarity: 0.2692307692307692\n",
            "Cosine Similarity: 0.2934612250187739\n"
          ]
        }
      ]
    },
    {
      "cell_type": "markdown",
      "source": [
        "Q5. Write a short review for a product or service.\n",
        "\n",
        "1. Use TextBlob or VADER to find polarity & subjecƟvity for each review.\n",
        "2. Classify reviews into PosiƟve / NegaƟve / Neutral.\n",
        "3. Create a word cloud using the wordcloud library for all posiƟve reviews."
      ],
      "metadata": {
        "id": "tkC_wYSivJZv"
      }
    },
    {
      "cell_type": "code",
      "source": [
        "from textblob import TextBlob\n",
        "from wordcloud import WordCloud\n",
        "import matplotlib.pyplot as plt\n",
        "\n",
        "review=\"The phone has an amazing display, and the sound quality is superb.\"\n",
        "\n",
        "# 1. Sentiment\n",
        "blob = TextBlob(review)\n",
        "print(\"Polarity:\", blob.sentiment.polarity)\n",
        "print(\"Subjectivity:\", blob.sentiment.subjectivity)\n",
        "\n",
        "# 2. Classification\n",
        "if blob.sentiment.polarity > 0.1:\n",
        "    sentiment = \"Positive\"\n",
        "elif blob.sentiment.polarity < -0.1:\n",
        "    sentiment = \"Negative\"\n",
        "else:\n",
        "    sentiment = \"Neutral\"\n",
        "print(\"Sentiment:\", sentiment)\n",
        "\n",
        "# 3. WordCloud (for positive reviews)\n",
        "if sentiment == \"Positive\":\n",
        "    wc = WordCloud(width=500, height=300, background_color='white').generate(review)\n",
        "    plt.imshow(wc, interpolation='bilinear')\n",
        "    plt.axis('off')\n",
        "    plt.title(\"Word Cloud - Positive Review\")\n",
        "    plt.show()"
      ],
      "metadata": {
        "colab": {
          "base_uri": "https://localhost:8080/",
          "height": 408
        },
        "id": "ltQe4NF1tU9a",
        "outputId": "aa39eefc-32de-42ef-d449-edcffb49afad"
      },
      "execution_count": 6,
      "outputs": [
        {
          "output_type": "stream",
          "name": "stdout",
          "text": [
            "Polarity: 0.6666666666666666\n",
            "Subjectivity: 0.7666666666666666\n",
            "Sentiment: Positive\n"
          ]
        },
        {
          "output_type": "display_data",
          "data": {
            "text/plain": [
              "<Figure size 640x480 with 1 Axes>"
            ],
            "image/png": "[encoded data removed]"
          },
          "metadata": {}
        }
      ]
    },
    {
      "cell_type": "code",
      "source": [
        "!pip install tensorflow\n"
      ],
      "metadata": {
        "colab": {
          "base_uri": "https://localhost:8080/"
        },
        "collapsed": true,
        "id": "GqaU7yPcyEcT",
        "outputId": "c593600b-f490-4c74-833d-5e6594806082"
      },
      "execution_count": 2,
      "outputs": [
        {
          "output_type": "stream",
          "name": "stdout",
          "text": [
            "Requirement already satisfied: tensorflow in /usr/local/lib/python3.11/dist-packages (2.19.0)\n",
            "Requirement already satisfied: absl-py>=1.0.0 in /usr/local/lib/python3.11/dist-packages (from tensorflow) (1.4.0)\n",
            "Requirement already satisfied: astunparse>=1.6.0 in /usr/local/lib/python3.11/dist-packages (from tensorflow) (1.6.3)\n",
            "Requirement already satisfied: flatbuffers>=24.3.25 in /usr/local/lib/python3.11/dist-packages (from tensorflow) (25.2.10)\n",
            "Requirement already satisfied: gast!=0.5.0,!=0.5.1,!=0.5.2,>=0.2.1 in /usr/local/lib/python3.11/dist-packages (from tensorflow) (0.6.0)\n",
            "Requirement already satisfied: google-pasta>=0.1.1 in /usr/local/lib/python3.11/dist-packages (from tensorflow) (0.2.0)\n",
            "Requirement already satisfied: libclang>=13.0.0 in /usr/local/lib/python3.11/dist-packages (from tensorflow) (18.1.1)\n",
            "Requirement already satisfied: opt-einsum>=2.3.2 in /usr/local/lib/python3.11/dist-packages (from tensorflow) (3.4.0)\n",
            "Requirement already satisfied: packaging in /usr/local/lib/python3.11/dist-packages (from tensorflow) (24.2)\n",
            "Requirement already satisfied: protobuf!=4.21.0,!=4.21.1,!=4.21.2,!=4.21.3,!=4.21.4,!=4.21.5,<6.0.0dev,>=3.20.3 in /usr/local/lib/python3.11/dist-packages (from tensorflow) (5.29.4)\n",
            "Requirement already satisfied: requests<3,>=2.21.0 in /usr/local/lib/python3.11/dist-packages (from tensorflow) (2.32.3)\n",
            "Requirement already satisfied: setuptools in /usr/local/lib/python3.11/dist-packages (from tensorflow) (75.2.0)\n",
            "Requirement already satisfied: six>=1.12.0 in /usr/local/lib/python3.11/dist-packages (from tensorflow) (1.17.0)\n",
            "Requirement already satisfied: termcolor>=1.1.0 in /usr/local/lib/python3.11/dist-packages (from tensorflow) (3.0.1)\n",
            "Requirement already satisfied: typing-extensions>=3.6.6 in /usr/local/lib/python3.11/dist-packages (from tensorflow) (4.13.2)\n",
            "Requirement already satisfied: wrapt>=1.11.0 in /usr/local/lib/python3.11/dist-packages (from tensorflow) (1.17.2)\n",
            "Requirement already satisfied: grpcio<2.0,>=1.24.3 in /usr/local/lib/python3.11/dist-packages (from tensorflow) (1.71.0)\n",
            "Requirement already satisfied: tensorboard~=2.19.0 in /usr/local/lib/python3.11/dist-packages (from tensorflow) (2.19.0)\n",
            "Requirement already satisfied: keras>=3.5.0 in /usr/local/lib/python3.11/dist-packages (from tensorflow) (3.8.0)\n",
            "Requirement already satisfied: numpy<2.2.0,>=1.26.0 in /usr/local/lib/python3.11/dist-packages (from tensorflow) (2.0.2)\n",
            "Requirement already satisfied: h5py>=3.11.0 in /usr/local/lib/python3.11/dist-packages (from tensorflow) (3.13.0)\n",
            "Requirement already satisfied: ml-dtypes<1.0.0,>=0.5.1 in /usr/local/lib/python3.11/dist-packages (from tensorflow) (0.5.1)\n",
            "Requirement already satisfied: tensorflow-io-gcs-filesystem>=0.23.1 in /usr/local/lib/python3.11/dist-packages (from tensorflow) (0.37.1)\n",
            "Requirement already satisfied: wheel<1.0,>=0.23.0 in /usr/local/lib/python3.11/dist-packages (from astunparse>=1.6.0->tensorflow) (0.45.1)\n",
            "Requirement already satisfied: rich in /usr/local/lib/python3.11/dist-packages (from keras>=3.5.0->tensorflow) (13.9.4)\n",
            "Requirement already satisfied: namex in /usr/local/lib/python3.11/dist-packages (from keras>=3.5.0->tensorflow) (0.0.9)\n",
            "Requirement already satisfied: optree in /usr/local/lib/python3.11/dist-packages (from keras>=3.5.0->tensorflow) (0.15.0)\n",
            "Requirement already satisfied: charset-normalizer<4,>=2 in /usr/local/lib/python3.11/dist-packages (from requests<3,>=2.21.0->tensorflow) (3.4.1)\n",
            "Requirement already satisfied: idna<4,>=2.5 in /usr/local/lib/python3.11/dist-packages (from requests<3,>=2.21.0->tensorflow) (3.10)\n",
            "Requirement already satisfied: urllib3<3,>=1.21.1 in /usr/local/lib/python3.11/dist-packages (from requests<3,>=2.21.0->tensorflow) (2.4.0)\n",
            "Requirement already satisfied: certifi>=2017.4.17 in /usr/local/lib/python3.11/dist-packages (from requests<3,>=2.21.0->tensorflow) (2025.1.31)\n",
            "Requirement already satisfied: markdown>=2.6.8 in /usr/local/lib/python3.11/dist-packages (from tensorboard~=2.19.0->tensorflow) (3.8)\n",
            "Requirement already satisfied: tensorboard-data-server<0.8.0,>=0.7.0 in /usr/local/lib/python3.11/dist-packages (from tensorboard~=2.19.0->tensorflow) (0.7.2)\n",
            "Requirement already satisfied: werkzeug>=1.0.1 in /usr/local/lib/python3.11/dist-packages (from tensorboard~=2.19.0->tensorflow) (3.1.3)\n",
            "Requirement already satisfied: MarkupSafe>=2.1.1 in /usr/local/lib/python3.11/dist-packages (from werkzeug>=1.0.1->tensorboard~=2.19.0->tensorflow) (3.0.2)\n",
            "Requirement already satisfied: markdown-it-py>=2.2.0 in /usr/local/lib/python3.11/dist-packages (from rich->keras>=3.5.0->tensorflow) (3.0.0)\n",
            "Requirement already satisfied: pygments<3.0.0,>=2.13.0 in /usr/local/lib/python3.11/dist-packages (from rich->keras>=3.5.0->tensorflow) (2.19.1)\n",
            "Requirement already satisfied: mdurl~=0.1 in /usr/local/lib/python3.11/dist-packages (from markdown-it-py>=2.2.0->rich->keras>=3.5.0->tensorflow) (0.1.2)\n"
          ]
        }
      ]
    },
    {
      "cell_type": "markdown",
      "source": [
        "Q6. Choose your own paragraph (~100 words) as training data.\n",
        "\n",
        "1. Tokenize text using Tokenizer() from keras.preprocessing.text\n",
        "2. Create input sequences and build a simple LSTM or Dense model\n",
        "3. Train the model and generate 2–3 new lines of text starƟng from any seed word you provide."
      ],
      "metadata": {
        "id": "5YiHYS3HwUsH"
      }
    },
    {
      "cell_type": "code",
      "source": [
        "import tensorflow as tf\n",
        "from tensorflow.keras.preprocessing.text import Tokenizer\n",
        "from tensorflow.keras.preprocessing.sequence import pad_sequences\n",
        "from tensorflow.keras.models import Sequential\n",
        "from tensorflow.keras.layers import Embedding, LSTM, Dense\n",
        "import numpy as np\n",
        "\n",
        "# Sample text data\n",
        "text = \"\"\"Cognitive computing involves simulating human thought processes in a computerized model.\n",
        "It uses machine learning, natural language processing, and artificial intelligence to create systems\n",
        "capable of reasoning and decision-making. These systems learn from data, adapt over time, and make\n",
        "informed decisions to solve complex problems. Cognitive computing is increasingly being used across\n",
        "various industries like healthcare, finance, and retail.\"\"\"\n",
        "# 1. Tokenization\n",
        "tokenizer = Tokenizer()\n",
        "tokenizer.fit_on_texts([text])\n",
        "total_words = len(tokenizer.word_index) + 1\n",
        "\n",
        "# 2. Creating n-gram sequences\n",
        "input_sequences = []\n",
        "words = text.lower().split()\n",
        "for i in range(1, len(words)):\n",
        "    n_gram_sequence = words[:i+1]\n",
        "    sequence = tokenizer.texts_to_sequences([' '.join(n_gram_sequence)])[0]\n",
        "    input_sequences.append(sequence)\n",
        "\n",
        "# Padding sequence\n",
        "max_len = max(len(seq) for seq in input_sequences)\n",
        "input_sequences = pad_sequences(input_sequences, maxlen=max_len, padding='pre')\n",
        "\n",
        "X = input_sequences[:, :-1]\n",
        "y = input_sequences[:, -1]\n",
        "\n",
        "# 3. Model definition\n",
        "model = Sequential([\n",
        "    Embedding(input_dim=total_words, output_dim=10, input_length=max_len - 1),\n",
        "    LSTM(50),\n",
        "    Dense(total_words, activation='softmax')\n",
        "])\n",
        "\n",
        "model.compile(loss='sparse_categorical_crossentropy', optimizer='adam', metrics=['accuracy'])\n",
        "model.fit(X, y, epochs=200, verbose=0)\n",
        "\n",
        "# 4. Generate new text\n",
        "seed = \"cognitive\"\n",
        "for _ in range(5):\n",
        "    token_seq = tokenizer.texts_to_sequences([seed])[0]\n",
        "    token_seq = pad_sequences([token_seq], maxlen=max_len - 1, padding='pre')\n",
        "    predicted_probs = model.predict(token_seq, verbose=0)\n",
        "    predicted_index = np.argmax(predicted_probs)\n",
        "    next_word = tokenizer.index_word.get(predicted_index, '')\n",
        "    seed += \" \" + next_word\n",
        "\n",
        "print(\"Generated Text:\", seed)"
      ],
      "metadata": {
        "colab": {
          "base_uri": "https://localhost:8080/"
        },
        "id": "kncy4tXVwDz0",
        "outputId": "0a7ce85a-640a-4b51-c339-28c3e6793cc0"
      },
      "execution_count": 5,
      "outputs": [
        {
          "output_type": "stream",
          "name": "stdout",
          "text": [
            "Generated Text: cognitive simulating simulating simulating simulating processes\n"
          ]
        }
      ]
    },
    {
      "cell_type": "code",
      "source": [],
      "metadata": {
        "id": "cmk0KjY5xXQ9"
      },
      "execution_count": null,
      "outputs": []
    }
  ]
}